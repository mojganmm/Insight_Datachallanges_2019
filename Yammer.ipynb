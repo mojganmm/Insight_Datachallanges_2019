{
 "cells": [
  {
   "cell_type": "markdown",
   "metadata": {},
   "source": [
    "# Goal: Investigating a Drop in User Engagement"
   ]
  },
  {
   "cell_type": "markdown",
   "metadata": {},
   "source": [
    "__About Yammer__: Yammer is a social network for communicating with coworkers. Individuals share documents, updates, and ideas by posting them in groups. Yammer is free to use indefinitely, but companies must pay license fees if they want access to administrative controls, including integration with user management systems like ActiveDirectory\n",
    "\n",
    "__Problem__: You show up to work Tuesday morning, September 2, 2014. The head of the Product team\n",
    "walks over to your desk and asks you what you think about the latest activity on the user\n",
    "engagement dashboards. \n",
    "The chart shows the number of engaged users each week. Yammer defines engagement\n",
    "as having made some type of server call by interacting with the product (shown in the data as\n",
    "events of type “engagement”). Any point in this chart can be interpreted as “the number of users\n",
    "who logged at least one engagement event during the week starting on that date.”\n",
    "You are responsible for determining what caused the dip at the end of the chart shown above\n",
    "and, if appropriate, recommending solutions for the problem.\n",
    "    "
   ]
  },
  {
   "cell_type": "markdown",
   "metadata": {},
   "source": [
    "__Hypothesis__:\n",
    "    \n",
    "1. Holidays affected this drop\n",
    "2. App or web or device problem\n",
    "3. Code is broken for specific event log or specific location/region"
   ]
  },
  {
   "cell_type": "markdown",
   "metadata": {},
   "source": [
    "__Import all libraries and dependencies__"
   ]
  },
  {
   "cell_type": "code",
   "execution_count": 10,
   "metadata": {},
   "outputs": [],
   "source": [
    "import pandas as pd\n",
    "import numpy as np\n",
    "import matplotlib.pyplot as plt\n",
    "import seaborn as sns\n",
    "from matplotlib import dates\n",
    "from datetime import datetime\n",
    "import random\n",
    "import mysql.connector as mysql\n",
    "import pandasql as ps\n",
    "from pandasql import *"
   ]
  },
  {
   "cell_type": "code",
   "execution_count": 11,
   "metadata": {},
   "outputs": [],
   "source": [
    "#read data\n",
    "\n",
    "# Input Dataset for the Model\n",
    "\n",
    "def ReadFromCSV(FilePath, sckipLines = 0, sep = ','):  \n",
    "\n",
    "    #Read and clean the csv file in FilePath ignoring the first sckipLines lines.\n",
    "\n",
    "    #(omits non-ascii characters from columns' name)\n",
    "\n",
    "    xa = pd.read_csv(FilePath, header=sckipLines, sep = sep, low_memory=False, index_col=False)\n",
    "\n",
    "    return xa"
   ]
  },
  {
   "cell_type": "markdown",
   "metadata": {},
   "source": [
    "Users Table: includes one row per user, with descriptive information about that user's account"
   ]
  },
  {
   "cell_type": "code",
   "execution_count": 12,
   "metadata": {},
   "outputs": [
    {
     "name": "stdout",
     "output_type": "stream",
     "text": [
      "(19066, 6)\n"
     ]
    },
    {
     "data": {
      "text/html": [
       "<div>\n",
       "<style scoped>\n",
       "    .dataframe tbody tr th:only-of-type {\n",
       "        vertical-align: middle;\n",
       "    }\n",
       "\n",
       "    .dataframe tbody tr th {\n",
       "        vertical-align: top;\n",
       "    }\n",
       "\n",
       "    .dataframe thead th {\n",
       "        text-align: right;\n",
       "    }\n",
       "</style>\n",
       "<table border=\"1\" class=\"dataframe\">\n",
       "  <thead>\n",
       "    <tr style=\"text-align: right;\">\n",
       "      <th></th>\n",
       "      <th>user_id</th>\n",
       "      <th>created_at</th>\n",
       "      <th>company_id</th>\n",
       "      <th>language</th>\n",
       "      <th>activated_at</th>\n",
       "      <th>state</th>\n",
       "    </tr>\n",
       "  </thead>\n",
       "  <tbody>\n",
       "    <tr>\n",
       "      <th>0</th>\n",
       "      <td>0.0</td>\n",
       "      <td>2013-01-01 20:59:39</td>\n",
       "      <td>5737.0</td>\n",
       "      <td>english</td>\n",
       "      <td>2013-01-01 21:01:07</td>\n",
       "      <td>active</td>\n",
       "    </tr>\n",
       "    <tr>\n",
       "      <th>1</th>\n",
       "      <td>1.0</td>\n",
       "      <td>2013-01-01 13:07:46</td>\n",
       "      <td>28.0</td>\n",
       "      <td>english</td>\n",
       "      <td>NaN</td>\n",
       "      <td>pending</td>\n",
       "    </tr>\n",
       "    <tr>\n",
       "      <th>2</th>\n",
       "      <td>2.0</td>\n",
       "      <td>2013-01-01 10:59:05</td>\n",
       "      <td>51.0</td>\n",
       "      <td>english</td>\n",
       "      <td>NaN</td>\n",
       "      <td>pending</td>\n",
       "    </tr>\n",
       "    <tr>\n",
       "      <th>3</th>\n",
       "      <td>3.0</td>\n",
       "      <td>2013-01-01 18:40:36</td>\n",
       "      <td>2800.0</td>\n",
       "      <td>german</td>\n",
       "      <td>2013-01-01 18:42:02</td>\n",
       "      <td>active</td>\n",
       "    </tr>\n",
       "    <tr>\n",
       "      <th>4</th>\n",
       "      <td>4.0</td>\n",
       "      <td>2013-01-01 14:37:51</td>\n",
       "      <td>5110.0</td>\n",
       "      <td>indian</td>\n",
       "      <td>2013-01-01 14:39:05</td>\n",
       "      <td>active</td>\n",
       "    </tr>\n",
       "  </tbody>\n",
       "</table>\n",
       "</div>"
      ],
      "text/plain": [
       "   user_id           created_at  company_id language         activated_at  \\\n",
       "0      0.0  2013-01-01 20:59:39      5737.0  english  2013-01-01 21:01:07   \n",
       "1      1.0  2013-01-01 13:07:46        28.0  english                  NaN   \n",
       "2      2.0  2013-01-01 10:59:05        51.0  english                  NaN   \n",
       "3      3.0  2013-01-01 18:40:36      2800.0   german  2013-01-01 18:42:02   \n",
       "4      4.0  2013-01-01 14:37:51      5110.0   indian  2013-01-01 14:39:05   \n",
       "\n",
       "     state  \n",
       "0   active  \n",
       "1  pending  \n",
       "2  pending  \n",
       "3   active  \n",
       "4   active  "
      ]
     },
     "execution_count": 12,
     "metadata": {},
     "output_type": "execute_result"
    }
   ],
   "source": [
    "users=ReadFromCSV('/Users/mojganmazouchi/Desktop/Yammer/data/yammer_users.csv') \n",
    "\n",
    "\n",
    "print(users.shape)  #(19066, 5)\n",
    "\n",
    "#df=df.drop(['Index'],axis=1)\n",
    "users.head()"
   ]
  },
  {
   "cell_type": "code",
   "execution_count": null,
   "metadata": {},
   "outputs": [],
   "source": []
  }
 ],
 "metadata": {
  "kernelspec": {
   "display_name": "Python 3",
   "language": "python",
   "name": "python3"
  },
  "language_info": {
   "codemirror_mode": {
    "name": "ipython",
    "version": 3
   },
   "file_extension": ".py",
   "mimetype": "text/x-python",
   "name": "python",
   "nbconvert_exporter": "python",
   "pygments_lexer": "ipython3",
   "version": "3.7.3"
  }
 },
 "nbformat": 4,
 "nbformat_minor": 2
}
