{
 "cells": [
  {
   "cell_type": "markdown",
   "metadata": {},
   "source": [
    "# Goal: Investigating a Drop in User Engagement"
   ]
  },
  {
   "cell_type": "markdown",
   "metadata": {},
   "source": [
    "__About Yammer__: Yammer is a social network for communicating with coworkers. Individuals share documents, updates, and ideas by posting them in groups. Yammer is free to use indefinitely, but companies must pay license fees if they want access to administrative controls, including integration with user management systems like ActiveDirectory\n",
    "\n",
    "__Problem__: You show up to work Tuesday morning, September 2, 2014. The head of the Product team\n",
    "walks over to your desk and asks you what you think about the latest activity on the user\n",
    "engagement dashboards. \n",
    "The chart shows the number of engaged users each week. Yammer defines engagement\n",
    "as having made some type of server call by interacting with the product (shown in the data as\n",
    "events of type “engagement”). Any point in this chart can be interpreted as “the number of users\n",
    "who logged at least one engagement event during the week starting on that date.”\n",
    "You are responsible for determining what caused the dip at the end of the chart shown above\n",
    "and, if appropriate, recommending solutions for the problem.\n",
    "    "
   ]
  },
  {
   "cell_type": "markdown",
   "metadata": {},
   "source": [
    "__Hypothesis__:\n",
    "    \n",
    "1. Holidays affected this drop\n",
    "2. App or web or device problem\n",
    "3. Code is broken for specific event log or specific location/region"
   ]
  },
  {
   "cell_type": "markdown",
   "metadata": {},
   "source": [
    "__Import all libraries and dependencies__"
   ]
  },
  {
   "cell_type": "code",
   "execution_count": 3,
   "metadata": {},
   "outputs": [],
   "source": [
    "import pandas as pd\n",
    "import numpy as np\n",
    "import matplotlib.pyplot as plt\n",
    "import seaborn as sns\n",
    "from matplotlib import dates\n",
    "from datetime import datetime\n",
    "import random\n",
    "import mysql.connector as mysql\n",
    "import pandasql as ps\n",
    "from pandasql import *\n",
    "import warnings\n",
    "warnings.filterwarnings(\"ignore\")"
   ]
  },
  {
   "cell_type": "code",
   "execution_count": 4,
   "metadata": {},
   "outputs": [],
   "source": [
    "#read data\n",
    "\n",
    "# Input Dataset for the Model\n",
    "\n",
    "def ReadFromCSV(FilePath, sckipLines = 0, sep = ','):  \n",
    "\n",
    "    #Read and clean the csv file in FilePath ignoring the first sckipLines lines.\n",
    "\n",
    "    #(omits non-ascii characters from columns' name)\n",
    "\n",
    "    xa = pd.read_csv(FilePath, header=sckipLines, sep = sep, low_memory=False, index_col=False)\n",
    "\n",
    "    return xa"
   ]
  },
  {
   "cell_type": "markdown",
   "metadata": {},
   "source": [
    "__Table 1__ : __Users Table__: includes one row per user, with descriptive information about that user's account"
   ]
  },
  {
   "cell_type": "code",
   "execution_count": 5,
   "metadata": {},
   "outputs": [
    {
     "name": "stdout",
     "output_type": "stream",
     "text": [
      "(19066, 6)\n"
     ]
    },
    {
     "data": {
      "text/html": [
       "<div>\n",
       "<style scoped>\n",
       "    .dataframe tbody tr th:only-of-type {\n",
       "        vertical-align: middle;\n",
       "    }\n",
       "\n",
       "    .dataframe tbody tr th {\n",
       "        vertical-align: top;\n",
       "    }\n",
       "\n",
       "    .dataframe thead th {\n",
       "        text-align: right;\n",
       "    }\n",
       "</style>\n",
       "<table border=\"1\" class=\"dataframe\">\n",
       "  <thead>\n",
       "    <tr style=\"text-align: right;\">\n",
       "      <th></th>\n",
       "      <th>user_id</th>\n",
       "      <th>created_at</th>\n",
       "      <th>company_id</th>\n",
       "      <th>language</th>\n",
       "      <th>activated_at</th>\n",
       "      <th>state</th>\n",
       "    </tr>\n",
       "  </thead>\n",
       "  <tbody>\n",
       "    <tr>\n",
       "      <th>0</th>\n",
       "      <td>0.0</td>\n",
       "      <td>2013-01-01 20:59:39</td>\n",
       "      <td>5737.0</td>\n",
       "      <td>english</td>\n",
       "      <td>2013-01-01 21:01:07</td>\n",
       "      <td>active</td>\n",
       "    </tr>\n",
       "    <tr>\n",
       "      <th>1</th>\n",
       "      <td>1.0</td>\n",
       "      <td>2013-01-01 13:07:46</td>\n",
       "      <td>28.0</td>\n",
       "      <td>english</td>\n",
       "      <td>NaN</td>\n",
       "      <td>pending</td>\n",
       "    </tr>\n",
       "    <tr>\n",
       "      <th>2</th>\n",
       "      <td>2.0</td>\n",
       "      <td>2013-01-01 10:59:05</td>\n",
       "      <td>51.0</td>\n",
       "      <td>english</td>\n",
       "      <td>NaN</td>\n",
       "      <td>pending</td>\n",
       "    </tr>\n",
       "    <tr>\n",
       "      <th>3</th>\n",
       "      <td>3.0</td>\n",
       "      <td>2013-01-01 18:40:36</td>\n",
       "      <td>2800.0</td>\n",
       "      <td>german</td>\n",
       "      <td>2013-01-01 18:42:02</td>\n",
       "      <td>active</td>\n",
       "    </tr>\n",
       "    <tr>\n",
       "      <th>4</th>\n",
       "      <td>4.0</td>\n",
       "      <td>2013-01-01 14:37:51</td>\n",
       "      <td>5110.0</td>\n",
       "      <td>indian</td>\n",
       "      <td>2013-01-01 14:39:05</td>\n",
       "      <td>active</td>\n",
       "    </tr>\n",
       "  </tbody>\n",
       "</table>\n",
       "</div>"
      ],
      "text/plain": [
       "   user_id           created_at  company_id language         activated_at  \\\n",
       "0      0.0  2013-01-01 20:59:39      5737.0  english  2013-01-01 21:01:07   \n",
       "1      1.0  2013-01-01 13:07:46        28.0  english                  NaN   \n",
       "2      2.0  2013-01-01 10:59:05        51.0  english                  NaN   \n",
       "3      3.0  2013-01-01 18:40:36      2800.0   german  2013-01-01 18:42:02   \n",
       "4      4.0  2013-01-01 14:37:51      5110.0   indian  2013-01-01 14:39:05   \n",
       "\n",
       "     state  \n",
       "0   active  \n",
       "1  pending  \n",
       "2  pending  \n",
       "3   active  \n",
       "4   active  "
      ]
     },
     "execution_count": 5,
     "metadata": {},
     "output_type": "execute_result"
    }
   ],
   "source": [
    "users=ReadFromCSV('/Users/mojganmazouchi/Desktop/Yammer/Insight_Datachallanges_2019/data/yammer_users.csv') \n",
    "\n",
    "\n",
    "print(users.shape)  #(19066, 5)\n",
    "\n",
    "#df=df.drop(['Index'],axis=1)\n",
    "users.head()"
   ]
  },
  {
   "cell_type": "markdown",
   "metadata": {},
   "source": [
    "__Table 2__: __Events__:This table inlcudes one row per event, where an event is an action that a user has taken on Yammer These events include login events, messaging events, search events, events logged as users progress through a sign up funnel, events arround recieved emails."
   ]
  },
  {
   "cell_type": "code",
   "execution_count": 6,
   "metadata": {},
   "outputs": [
    {
     "name": "stdout",
     "output_type": "stream",
     "text": [
      "(340832, 7)\n"
     ]
    },
    {
     "data": {
      "text/html": [
       "<div>\n",
       "<style scoped>\n",
       "    .dataframe tbody tr th:only-of-type {\n",
       "        vertical-align: middle;\n",
       "    }\n",
       "\n",
       "    .dataframe tbody tr th {\n",
       "        vertical-align: top;\n",
       "    }\n",
       "\n",
       "    .dataframe thead th {\n",
       "        text-align: right;\n",
       "    }\n",
       "</style>\n",
       "<table border=\"1\" class=\"dataframe\">\n",
       "  <thead>\n",
       "    <tr style=\"text-align: right;\">\n",
       "      <th></th>\n",
       "      <th>user_id</th>\n",
       "      <th>occurred_at</th>\n",
       "      <th>event_type</th>\n",
       "      <th>event_name</th>\n",
       "      <th>location</th>\n",
       "      <th>device</th>\n",
       "      <th>start_period</th>\n",
       "      <th>end_period</th>\n",
       "    </tr>\n",
       "  </thead>\n",
       "  <tbody>\n",
       "    <tr>\n",
       "      <th>0</th>\n",
       "      <td>10522.0</td>\n",
       "      <td>2014-05-02 11:02:39</td>\n",
       "      <td>engagement</td>\n",
       "      <td>login</td>\n",
       "      <td>Japan</td>\n",
       "      <td>dell inspiron notebook</td>\n",
       "      <td>2014-04-28</td>\n",
       "      <td>2014-05-04 23:59:59.999999999</td>\n",
       "    </tr>\n",
       "    <tr>\n",
       "      <th>1</th>\n",
       "      <td>10522.0</td>\n",
       "      <td>2014-05-02 11:02:53</td>\n",
       "      <td>engagement</td>\n",
       "      <td>home_page</td>\n",
       "      <td>Japan</td>\n",
       "      <td>dell inspiron notebook</td>\n",
       "      <td>2014-04-28</td>\n",
       "      <td>2014-05-04 23:59:59.999999999</td>\n",
       "    </tr>\n",
       "    <tr>\n",
       "      <th>2</th>\n",
       "      <td>10522.0</td>\n",
       "      <td>2014-05-02 11:03:28</td>\n",
       "      <td>engagement</td>\n",
       "      <td>like_message</td>\n",
       "      <td>Japan</td>\n",
       "      <td>dell inspiron notebook</td>\n",
       "      <td>2014-04-28</td>\n",
       "      <td>2014-05-04 23:59:59.999999999</td>\n",
       "    </tr>\n",
       "    <tr>\n",
       "      <th>3</th>\n",
       "      <td>10522.0</td>\n",
       "      <td>2014-05-02 11:04:09</td>\n",
       "      <td>engagement</td>\n",
       "      <td>view_inbox</td>\n",
       "      <td>Japan</td>\n",
       "      <td>dell inspiron notebook</td>\n",
       "      <td>2014-04-28</td>\n",
       "      <td>2014-05-04 23:59:59.999999999</td>\n",
       "    </tr>\n",
       "    <tr>\n",
       "      <th>4</th>\n",
       "      <td>10522.0</td>\n",
       "      <td>2014-05-02 11:03:16</td>\n",
       "      <td>engagement</td>\n",
       "      <td>search_run</td>\n",
       "      <td>Japan</td>\n",
       "      <td>dell inspiron notebook</td>\n",
       "      <td>2014-04-28</td>\n",
       "      <td>2014-05-04 23:59:59.999999999</td>\n",
       "    </tr>\n",
       "  </tbody>\n",
       "</table>\n",
       "</div>"
      ],
      "text/plain": [
       "   user_id          occurred_at  event_type    event_name location  \\\n",
       "0  10522.0  2014-05-02 11:02:39  engagement         login    Japan   \n",
       "1  10522.0  2014-05-02 11:02:53  engagement     home_page    Japan   \n",
       "2  10522.0  2014-05-02 11:03:28  engagement  like_message    Japan   \n",
       "3  10522.0  2014-05-02 11:04:09  engagement    view_inbox    Japan   \n",
       "4  10522.0  2014-05-02 11:03:16  engagement    search_run    Japan   \n",
       "\n",
       "                   device start_period                    end_period  \n",
       "0  dell inspiron notebook   2014-04-28 2014-05-04 23:59:59.999999999  \n",
       "1  dell inspiron notebook   2014-04-28 2014-05-04 23:59:59.999999999  \n",
       "2  dell inspiron notebook   2014-04-28 2014-05-04 23:59:59.999999999  \n",
       "3  dell inspiron notebook   2014-04-28 2014-05-04 23:59:59.999999999  \n",
       "4  dell inspiron notebook   2014-04-28 2014-05-04 23:59:59.999999999  "
      ]
     },
     "execution_count": 6,
     "metadata": {},
     "output_type": "execute_result"
    }
   ],
   "source": [
    "events=ReadFromCSV('/Users/mojganmazouchi/Desktop/Yammer/Insight_Datachallanges_2019/data/yammer_events.csv') \n",
    "\n",
    "print(events.shape)  #(340,832, 7)\n",
    "\n",
    "events['occurred_at_p']=pd.to_datetime(events['occurred_at'])\n",
    "events['occurred_at_p'] = events['occurred_at_p'].dt.to_period(freq = 'W')\n",
    "events['start_period'] = events.occurred_at_p.dt.start_time\n",
    "events['end_period'] = events.occurred_at_p.dt.end_time\n",
    "\n",
    "events=events.drop(['user_type','occurred_at_p'],axis=1)\n",
    "events.head()"
   ]
  },
  {
   "cell_type": "code",
   "execution_count": 11,
   "metadata": {},
   "outputs": [
    {
     "data": {
      "text/html": [
       "<div>\n",
       "<style scoped>\n",
       "    .dataframe tbody tr th:only-of-type {\n",
       "        vertical-align: middle;\n",
       "    }\n",
       "\n",
       "    .dataframe tbody tr th {\n",
       "        vertical-align: top;\n",
       "    }\n",
       "\n",
       "    .dataframe thead th {\n",
       "        text-align: right;\n",
       "    }\n",
       "</style>\n",
       "<table border=\"1\" class=\"dataframe\">\n",
       "  <thead>\n",
       "    <tr style=\"text-align: right;\">\n",
       "      <th></th>\n",
       "      <th>start_period</th>\n",
       "      <th>user_id</th>\n",
       "    </tr>\n",
       "  </thead>\n",
       "  <tbody>\n",
       "    <tr>\n",
       "      <th>0</th>\n",
       "      <td>2014-04-28</td>\n",
       "      <td>701</td>\n",
       "    </tr>\n",
       "    <tr>\n",
       "      <th>1</th>\n",
       "      <td>2014-05-05</td>\n",
       "      <td>1054</td>\n",
       "    </tr>\n",
       "    <tr>\n",
       "      <th>2</th>\n",
       "      <td>2014-05-12</td>\n",
       "      <td>1094</td>\n",
       "    </tr>\n",
       "    <tr>\n",
       "      <th>3</th>\n",
       "      <td>2014-05-19</td>\n",
       "      <td>1147</td>\n",
       "    </tr>\n",
       "    <tr>\n",
       "      <th>4</th>\n",
       "      <td>2014-05-26</td>\n",
       "      <td>1113</td>\n",
       "    </tr>\n",
       "  </tbody>\n",
       "</table>\n",
       "</div>"
      ],
      "text/plain": [
       "  start_period  user_id\n",
       "0   2014-04-28      701\n",
       "1   2014-05-05     1054\n",
       "2   2014-05-12     1094\n",
       "3   2014-05-19     1147\n",
       "4   2014-05-26     1113"
      ]
     },
     "execution_count": 11,
     "metadata": {},
     "output_type": "execute_result"
    }
   ],
   "source": [
    "# Plotting Weekly active users (#of users who logged at least one engagement during week start_period)\n",
    "engaged = events[events['event_type'] == \"engagement\"]\n",
    "\n",
    "engaged.head() #(321575, 8)\n",
    "\n",
    "engaged_users = engaged.groupby('start_period')['user_id'].nunique().to_frame().reset_index()\n",
    "engaged_users.head()"
   ]
  },
  {
   "cell_type": "code",
   "execution_count": 18,
   "metadata": {},
   "outputs": [
    {
     "data": {
      "image/png": "[encoded data removed]",
      "text/plain": [
       "<Figure size 936x360 with 1 Axes>"
      ]
     },
     "metadata": {
      "needs_background": "light"
     },
     "output_type": "display_data"
    }
   ],
   "source": [
    "# Plotting\n",
    "fig = plt.subplots(1,1, figsize = (13, 5))\n",
    "ax = sns.lineplot(data=engaged_users, x=\"start_period\", y=\"user_id\")\n",
    "ax.set(xticks=engaged_users.start_period.values);\n",
    "ax.xaxis.set_major_formatter(dates.DateFormatter(\"%d-%b-%Y\"));\n",
    "plt.xticks(rotation=90);\n",
    "plt.xlabel(\"\");\n",
    "plt.ylabel(\"\");\n",
    "plt.title(\"Weekly Active Users From April to August\");"
   ]
  },
  {
   "cell_type": "markdown",
   "metadata": {},
   "source": [
    "There is a drop seen after July 28, 2014, what are the possible causes for the dip in retention shown in the plot above?"
   ]
  },
  {
   "cell_type": "markdown",
   "metadata": {},
   "source": [
    "__Table 3__: Email Events This table contains events specific to the sending of e.mails. It is similar in structure to the events"
   ]
  },
  {
   "cell_type": "code",
   "execution_count": null,
   "metadata": {},
   "outputs": [],
   "source": [
    "emails=ReadFromCSV('/Users/mojganmazouchi/Desktop/Yammer/Insight_Datachallanges_2019/data/yammer_emails.csv') \n",
    "\n",
    "print(emails.shape)  #(90389, 4)\n",
    "\n",
    "#df=df.drop(['Index'],axis=1)\n",
    "emails.head()"
   ]
  },
  {
   "cell_type": "markdown",
   "metadata": {},
   "source": [
    "__Table 4__: __Rollup Periods__\n",
    "This table is a look up table that is used to create rolling time periods. "
   ]
  },
  {
   "cell_type": "code",
   "execution_count": null,
   "metadata": {},
   "outputs": [],
   "source": [
    "roll=ReadFromCSV('/Users/mojganmazouchi/Desktop/Yammer/Insight_Datachallanges_2019/data/dimension_rollup_periods.csv') \n",
    "\n",
    "print(roll.shape)  #(56002, 6)\n",
    "\n",
    "#df=df.drop(['Index'],axis=1)\n",
    "roll.head()"
   ]
  },
  {
   "cell_type": "code",
   "execution_count": null,
   "metadata": {},
   "outputs": [],
   "source": []
  }
 ],
 "metadata": {
  "kernelspec": {
   "display_name": "Python 3",
   "language": "python",
   "name": "python3"
  },
  "language_info": {
   "codemirror_mode": {
    "name": "ipython",
    "version": 3
   },
   "file_extension": ".py",
   "mimetype": "text/x-python",
   "name": "python",
   "nbconvert_exporter": "python",
   "pygments_lexer": "ipython3",
   "version": "3.7.3"
  }
 },
 "nbformat": 4,
 "nbformat_minor": 2
}
