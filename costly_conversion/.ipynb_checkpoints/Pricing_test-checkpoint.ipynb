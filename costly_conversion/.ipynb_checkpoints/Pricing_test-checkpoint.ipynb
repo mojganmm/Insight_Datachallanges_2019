{
 "cells": [
  {
   "cell_type": "markdown",
   "metadata": {},
   "source": [
    "# Pricing Test and Optimization"
   ]
  },
  {
   "cell_type": "markdown",
   "metadata": {},
   "source": [
    "__Goal__:\n",
    "\n",
    "The analysis in this notebook focus on evaluating the results of an A/B Test of software pricing to draw insights on users segmentation. The goal here is to evaluate whether a pricing test running on the site has been successful.\n",
    "\n",
    "__Challenge Description__:\n",
    "\n",
    "Company xyz sells a software for \\$39.\n",
    "\n",
    "Can we increase the software's price to $59 to increase revenue?\n"
   ]
  },
  {
   "cell_type": "markdown",
   "metadata": {},
   "source": [
    "Here 33% users see a higher price of (59 dollars),while 66% of users seen the old price(\\$39). I picked the bussiness metric of conversion rate that we want to see the increase in.\n",
    "\n",
    "__Questions to address__:\n",
    "\n",
    "1. Should the company sell its software for 39 or 59?\n",
    "2. What are your main findings looking at the data?\n",
    "3. How to increase user conversion rate?\n",
    "4. Is it okay to stop a test if statistical significance results are found?\n",
    "5. After how many days you would have stopped the test? Please, explain\n",
    "why.\n",
    "\n",
    "\n",
    "__Work Flow__:\n",
    "\n",
    "1. ETL: Load the data and Clean the data and check if there is any mislabled.\n",
    "2. Convert timestamp into date and time, and create new features to describe day of the week, and time of the day.\n",
    "3. EDA: Exploratory data analysis and investigation to verify experiments are indeed random and analyze different segments of users, e.x.mobile vs. web, ios vs android, ads vs. seo vs. friend_referral, users visit website during working hours or on weekdays.\n",
    "4. Define success metric (if conversion rate is not meaningful define a new metric). Define effect size, power, significance level and eventually the number of samples we need to come up with the minimum days that we need to run the test to have an educated guess and decision."
   ]
  },
  {
   "cell_type": "markdown",
   "metadata": {},
   "source": [
    "__Import all libraries and dependencies__"
   ]
  },
  {
   "cell_type": "code",
   "execution_count": 71,
   "metadata": {},
   "outputs": [],
   "source": [
    "%matplotlib inline\n",
    "import pandas as pd\n",
    "import numpy as np\n",
    "import matplotlib.pyplot as plt\n",
    "import seaborn as sns\n",
    "from matplotlib import dates\n",
    "from datetime import datetime\n",
    "import datetime as dt\n",
    "import random\n",
    "import mysql.connector as mysql\n",
    "import pandasql as ps\n",
    "from pandasql import *\n",
    "import warnings\n",
    "warnings.filterwarnings(\"ignore\")\n",
    "\n",
    "from scipy.stats import ttest_ind"
   ]
  },
  {
   "cell_type": "markdown",
   "metadata": {},
   "source": [
    "__ETL and Loading the Data__\n",
    "\n",
    "- Read csv files of test results and user data, remove potential duplicates.\n",
    "- Count missing values.\n",
    "- Count unique values in user_id in both dataframes. Potentially, a user might be assigned to both treatment and control. This raises red flag. Also, the unique values in source, device, operative_system, country can help segmenting users later."
   ]
  },
  {
   "cell_type": "code",
   "execution_count": 4,
   "metadata": {},
   "outputs": [],
   "source": [
    "#read data\n",
    "\n",
    "# Input Dataset for the Model\n",
    "\n",
    "def ReadFromCSV(FilePath, sckipLines = 0, sep = ','):  \n",
    "\n",
    "    xa = pd.read_csv(FilePath, header=sckipLines, sep = sep, low_memory=False, index_col=False)\n",
    "\n",
    "    return xa"
   ]
  },
  {
   "cell_type": "code",
   "execution_count": 5,
   "metadata": {},
   "outputs": [
    {
     "name": "stdout",
     "output_type": "stream",
     "text": [
      "user data shape is:  (275616, 5)\n",
      "user data types are:\n",
      " user_id      int64\n",
      "city        object\n",
      "country     object\n",
      "lat        float64\n",
      "long       float64\n",
      "dtype: object\n"
     ]
    },
    {
     "data": {
      "text/html": [
       "<div>\n",
       "<style scoped>\n",
       "    .dataframe tbody tr th:only-of-type {\n",
       "        vertical-align: middle;\n",
       "    }\n",
       "\n",
       "    .dataframe tbody tr th {\n",
       "        vertical-align: top;\n",
       "    }\n",
       "\n",
       "    .dataframe thead th {\n",
       "        text-align: right;\n",
       "    }\n",
       "</style>\n",
       "<table border=\"1\" class=\"dataframe\">\n",
       "  <thead>\n",
       "    <tr style=\"text-align: right;\">\n",
       "      <th></th>\n",
       "      <th>user_id</th>\n",
       "      <th>city</th>\n",
       "      <th>country</th>\n",
       "      <th>lat</th>\n",
       "      <th>long</th>\n",
       "    </tr>\n",
       "  </thead>\n",
       "  <tbody>\n",
       "    <tr>\n",
       "      <th>0</th>\n",
       "      <td>510335</td>\n",
       "      <td>Peabody</td>\n",
       "      <td>USA</td>\n",
       "      <td>42.53</td>\n",
       "      <td>-70.97</td>\n",
       "    </tr>\n",
       "    <tr>\n",
       "      <th>1</th>\n",
       "      <td>89568</td>\n",
       "      <td>Reno</td>\n",
       "      <td>USA</td>\n",
       "      <td>39.54</td>\n",
       "      <td>-119.82</td>\n",
       "    </tr>\n",
       "    <tr>\n",
       "      <th>2</th>\n",
       "      <td>434134</td>\n",
       "      <td>Rialto</td>\n",
       "      <td>USA</td>\n",
       "      <td>34.11</td>\n",
       "      <td>-117.39</td>\n",
       "    </tr>\n",
       "    <tr>\n",
       "      <th>3</th>\n",
       "      <td>289769</td>\n",
       "      <td>Carson City</td>\n",
       "      <td>USA</td>\n",
       "      <td>39.15</td>\n",
       "      <td>-119.74</td>\n",
       "    </tr>\n",
       "    <tr>\n",
       "      <th>4</th>\n",
       "      <td>939586</td>\n",
       "      <td>Chicago</td>\n",
       "      <td>USA</td>\n",
       "      <td>41.84</td>\n",
       "      <td>-87.68</td>\n",
       "    </tr>\n",
       "  </tbody>\n",
       "</table>\n",
       "</div>"
      ],
      "text/plain": [
       "   user_id         city country    lat    long\n",
       "0   510335      Peabody     USA  42.53  -70.97\n",
       "1    89568         Reno     USA  39.54 -119.82\n",
       "2   434134       Rialto     USA  34.11 -117.39\n",
       "3   289769  Carson City     USA  39.15 -119.74\n",
       "4   939586      Chicago     USA  41.84  -87.68"
      ]
     },
     "execution_count": 5,
     "metadata": {},
     "output_type": "execute_result"
    }
   ],
   "source": [
    "user=ReadFromCSV('/Users/mojganmazouchi/Desktop/Yammer/Insight_Datachallanges_2019/costly_conversion/Pricing_Test_data/user_table.csv') \n",
    "\n",
    "print('user data shape is: ', user.shape)  #(275616, 5)\n",
    "print('user data types are:\\n', user.dtypes)\n",
    "\n",
    "user.head()"
   ]
  },
  {
   "cell_type": "code",
   "execution_count": 26,
   "metadata": {},
   "outputs": [
    {
     "name": "stdout",
     "output_type": "stream",
     "text": [
      "test results shape is:  (316800, 8)\n",
      "test results data types are:\n",
      " user_id              int64\n",
      "timestamp           object\n",
      "source              object\n",
      "device              object\n",
      "operative_system    object\n",
      "test                 int64\n",
      "price                int64\n",
      "converted            int64\n",
      "dtype: object\n"
     ]
    },
    {
     "data": {
      "text/html": [
       "<div>\n",
       "<style scoped>\n",
       "    .dataframe tbody tr th:only-of-type {\n",
       "        vertical-align: middle;\n",
       "    }\n",
       "\n",
       "    .dataframe tbody tr th {\n",
       "        vertical-align: top;\n",
       "    }\n",
       "\n",
       "    .dataframe thead th {\n",
       "        text-align: right;\n",
       "    }\n",
       "</style>\n",
       "<table border=\"1\" class=\"dataframe\">\n",
       "  <thead>\n",
       "    <tr style=\"text-align: right;\">\n",
       "      <th></th>\n",
       "      <th>user_id</th>\n",
       "      <th>timestamp</th>\n",
       "      <th>source</th>\n",
       "      <th>device</th>\n",
       "      <th>operative_system</th>\n",
       "      <th>test</th>\n",
       "      <th>price</th>\n",
       "      <th>converted</th>\n",
       "    </tr>\n",
       "  </thead>\n",
       "  <tbody>\n",
       "    <tr>\n",
       "      <th>0</th>\n",
       "      <td>604839</td>\n",
       "      <td>2015-05-08 03:38:34</td>\n",
       "      <td>ads_facebook</td>\n",
       "      <td>mobile</td>\n",
       "      <td>iOS</td>\n",
       "      <td>0</td>\n",
       "      <td>39</td>\n",
       "      <td>0</td>\n",
       "    </tr>\n",
       "    <tr>\n",
       "      <th>1</th>\n",
       "      <td>624057</td>\n",
       "      <td>2015-05-10 21:08:46</td>\n",
       "      <td>seo-google</td>\n",
       "      <td>mobile</td>\n",
       "      <td>android</td>\n",
       "      <td>0</td>\n",
       "      <td>39</td>\n",
       "      <td>0</td>\n",
       "    </tr>\n",
       "    <tr>\n",
       "      <th>2</th>\n",
       "      <td>317970</td>\n",
       "      <td>2015-04-04 15:01:23</td>\n",
       "      <td>ads-bing</td>\n",
       "      <td>mobile</td>\n",
       "      <td>android</td>\n",
       "      <td>0</td>\n",
       "      <td>39</td>\n",
       "      <td>0</td>\n",
       "    </tr>\n",
       "    <tr>\n",
       "      <th>3</th>\n",
       "      <td>685636</td>\n",
       "      <td>2015-05-07 07:26:01</td>\n",
       "      <td>direct_traffic</td>\n",
       "      <td>mobile</td>\n",
       "      <td>iOS</td>\n",
       "      <td>1</td>\n",
       "      <td>59</td>\n",
       "      <td>0</td>\n",
       "    </tr>\n",
       "    <tr>\n",
       "      <th>4</th>\n",
       "      <td>820854</td>\n",
       "      <td>2015-05-24 11:04:40</td>\n",
       "      <td>ads_facebook</td>\n",
       "      <td>web</td>\n",
       "      <td>mac</td>\n",
       "      <td>0</td>\n",
       "      <td>39</td>\n",
       "      <td>0</td>\n",
       "    </tr>\n",
       "  </tbody>\n",
       "</table>\n",
       "</div>"
      ],
      "text/plain": [
       "   user_id            timestamp          source  device operative_system  \\\n",
       "0   604839  2015-05-08 03:38:34    ads_facebook  mobile              iOS   \n",
       "1   624057  2015-05-10 21:08:46      seo-google  mobile          android   \n",
       "2   317970  2015-04-04 15:01:23        ads-bing  mobile          android   \n",
       "3   685636  2015-05-07 07:26:01  direct_traffic  mobile              iOS   \n",
       "4   820854  2015-05-24 11:04:40    ads_facebook     web              mac   \n",
       "\n",
       "   test  price  converted  \n",
       "0     0     39          0  \n",
       "1     0     39          0  \n",
       "2     0     39          0  \n",
       "3     1     59          0  \n",
       "4     0     39          0  "
      ]
     },
     "execution_count": 26,
     "metadata": {},
     "output_type": "execute_result"
    }
   ],
   "source": [
    "test_df=ReadFromCSV('/Users/mojganmazouchi/Desktop/Yammer/Insight_Datachallanges_2019/costly_conversion/Pricing_Test_data/test_results.csv') \n",
    "\n",
    "print('test results shape is: ',test_df.shape)  #(316800, 8)\n",
    "print('test results data types are:\\n',test_df.dtypes)\n",
    "\n",
    "test_df.head(5)"
   ]
  },
  {
   "cell_type": "code",
   "execution_count": 27,
   "metadata": {},
   "outputs": [],
   "source": [
    "def missing_value(df):\n",
    "    for col in df.columns:\n",
    "        print('number of missing values in '+ col + ' is ' + str(df[col].isnull().sum()))\n",
    "    return None"
   ]
  },
  {
   "cell_type": "code",
   "execution_count": 28,
   "metadata": {},
   "outputs": [
    {
     "name": "stdout",
     "output_type": "stream",
     "text": [
      "number of missing values in user_id is 0\n",
      "number of missing values in timestamp is 0\n",
      "number of missing values in source is 0\n",
      "number of missing values in device is 0\n",
      "number of missing values in operative_system is 0\n",
      "number of missing values in test is 0\n",
      "number of missing values in price is 0\n",
      "number of missing values in converted is 0\n",
      "missing_values_test: None\n",
      "number of missing values in user_id is 0\n",
      "number of missing values in city is 0\n",
      "number of missing values in country is 0\n",
      "number of missing values in lat is 0\n",
      "number of missing values in long is 0\n",
      "missing_values_user: None\n"
     ]
    }
   ],
   "source": [
    "print ('missing_values_test:',missing_value(test_df))\n",
    "print ('missing_values_user:',missing_value(user))"
   ]
  },
  {
   "cell_type": "markdown",
   "metadata": {},
   "source": [
    "Convert TimeStamp to Date and Time.\n",
    "Create Two New Features:\n",
    "- Whether a customer visits the website during the working hour or afterwards.\n",
    "- Day of the Week when a customer visits"
   ]
  },
  {
   "cell_type": "code",
   "execution_count": 29,
   "metadata": {},
   "outputs": [],
   "source": [
    "def convertTimeStamp(df, timestamp_col):\n",
    "    df[timestamp_col] = pd.to_datetime(df[timestamp_col], errors='coerce')\n",
    "    df['date'] = df[timestamp_col].dt.date\n",
    "    df['time'] = df[timestamp_col].dt.time\n",
    "    df['day_of_week'] = df[timestamp_col].dt.weekday\n",
    "    df['hour'] = df[timestamp_col].dt.hour\n",
    "    df['working_hour'] = np.where((df['hour']<=17) & (df['hour']>=8),1,0)\n",
    "    df = df.drop([timestamp_col], axis=1)\n",
    "    return df"
   ]
  },
  {
   "cell_type": "code",
   "execution_count": 30,
   "metadata": {},
   "outputs": [],
   "source": [
    "test_df = convertTimeStamp(test_df, 'timestamp')"
   ]
  },
  {
   "cell_type": "code",
   "execution_count": 31,
   "metadata": {},
   "outputs": [
    {
     "data": {
      "text/html": [
       "<div>\n",
       "<style scoped>\n",
       "    .dataframe tbody tr th:only-of-type {\n",
       "        vertical-align: middle;\n",
       "    }\n",
       "\n",
       "    .dataframe tbody tr th {\n",
       "        vertical-align: top;\n",
       "    }\n",
       "\n",
       "    .dataframe thead th {\n",
       "        text-align: right;\n",
       "    }\n",
       "</style>\n",
       "<table border=\"1\" class=\"dataframe\">\n",
       "  <thead>\n",
       "    <tr style=\"text-align: right;\">\n",
       "      <th></th>\n",
       "      <th>user_id</th>\n",
       "      <th>source</th>\n",
       "      <th>device</th>\n",
       "      <th>operative_system</th>\n",
       "      <th>test</th>\n",
       "      <th>price</th>\n",
       "      <th>converted</th>\n",
       "      <th>date</th>\n",
       "      <th>time</th>\n",
       "      <th>day_of_week</th>\n",
       "      <th>hour</th>\n",
       "      <th>working_hour</th>\n",
       "    </tr>\n",
       "  </thead>\n",
       "  <tbody>\n",
       "    <tr>\n",
       "      <th>0</th>\n",
       "      <td>604839</td>\n",
       "      <td>ads_facebook</td>\n",
       "      <td>mobile</td>\n",
       "      <td>iOS</td>\n",
       "      <td>0</td>\n",
       "      <td>39</td>\n",
       "      <td>0</td>\n",
       "      <td>2015-05-08</td>\n",
       "      <td>03:38:34</td>\n",
       "      <td>4.0</td>\n",
       "      <td>3.0</td>\n",
       "      <td>0</td>\n",
       "    </tr>\n",
       "    <tr>\n",
       "      <th>1</th>\n",
       "      <td>624057</td>\n",
       "      <td>seo-google</td>\n",
       "      <td>mobile</td>\n",
       "      <td>android</td>\n",
       "      <td>0</td>\n",
       "      <td>39</td>\n",
       "      <td>0</td>\n",
       "      <td>2015-05-10</td>\n",
       "      <td>21:08:46</td>\n",
       "      <td>6.0</td>\n",
       "      <td>21.0</td>\n",
       "      <td>0</td>\n",
       "    </tr>\n",
       "    <tr>\n",
       "      <th>2</th>\n",
       "      <td>317970</td>\n",
       "      <td>ads-bing</td>\n",
       "      <td>mobile</td>\n",
       "      <td>android</td>\n",
       "      <td>0</td>\n",
       "      <td>39</td>\n",
       "      <td>0</td>\n",
       "      <td>2015-04-04</td>\n",
       "      <td>15:01:23</td>\n",
       "      <td>5.0</td>\n",
       "      <td>15.0</td>\n",
       "      <td>1</td>\n",
       "    </tr>\n",
       "    <tr>\n",
       "      <th>3</th>\n",
       "      <td>685636</td>\n",
       "      <td>direct_traffic</td>\n",
       "      <td>mobile</td>\n",
       "      <td>iOS</td>\n",
       "      <td>1</td>\n",
       "      <td>59</td>\n",
       "      <td>0</td>\n",
       "      <td>2015-05-07</td>\n",
       "      <td>07:26:01</td>\n",
       "      <td>3.0</td>\n",
       "      <td>7.0</td>\n",
       "      <td>0</td>\n",
       "    </tr>\n",
       "    <tr>\n",
       "      <th>4</th>\n",
       "      <td>820854</td>\n",
       "      <td>ads_facebook</td>\n",
       "      <td>web</td>\n",
       "      <td>mac</td>\n",
       "      <td>0</td>\n",
       "      <td>39</td>\n",
       "      <td>0</td>\n",
       "      <td>2015-05-24</td>\n",
       "      <td>11:04:40</td>\n",
       "      <td>6.0</td>\n",
       "      <td>11.0</td>\n",
       "      <td>1</td>\n",
       "    </tr>\n",
       "  </tbody>\n",
       "</table>\n",
       "</div>"
      ],
      "text/plain": [
       "   user_id          source  device operative_system  test  price  converted  \\\n",
       "0   604839    ads_facebook  mobile              iOS     0     39          0   \n",
       "1   624057      seo-google  mobile          android     0     39          0   \n",
       "2   317970        ads-bing  mobile          android     0     39          0   \n",
       "3   685636  direct_traffic  mobile              iOS     1     59          0   \n",
       "4   820854    ads_facebook     web              mac     0     39          0   \n",
       "\n",
       "         date      time  day_of_week  hour  working_hour  \n",
       "0  2015-05-08  03:38:34          4.0   3.0             0  \n",
       "1  2015-05-10  21:08:46          6.0  21.0             0  \n",
       "2  2015-04-04  15:01:23          5.0  15.0             1  \n",
       "3  2015-05-07  07:26:01          3.0   7.0             0  \n",
       "4  2015-05-24  11:04:40          6.0  11.0             1  "
      ]
     },
     "execution_count": 31,
     "metadata": {},
     "output_type": "execute_result"
    }
   ],
   "source": [
    "test_df.head()"
   ]
  },
  {
   "cell_type": "markdown",
   "metadata": {},
   "source": [
    "__EDA__\n",
    "\n",
    "- Compare conversion rate between treatment and control group.\n",
    "- Segment user behaviour based on the following variables: source, device, operative_system,test,day_of_week,working_hour,hour."
   ]
  },
  {
   "cell_type": "markdown",
   "metadata": {},
   "source": [
    "Fix Mismatch pricing between Treatment and Control group by defining new column of test_1 from refrencing prices as the reliable values"
   ]
  },
  {
   "cell_type": "code",
   "execution_count": 32,
   "metadata": {},
   "outputs": [
    {
     "data": {
      "text/html": [
       "<div>\n",
       "<style scoped>\n",
       "    .dataframe tbody tr th:only-of-type {\n",
       "        vertical-align: middle;\n",
       "    }\n",
       "\n",
       "    .dataframe tbody tr th {\n",
       "        vertical-align: top;\n",
       "    }\n",
       "\n",
       "    .dataframe thead th {\n",
       "        text-align: right;\n",
       "    }\n",
       "</style>\n",
       "<table border=\"1\" class=\"dataframe\">\n",
       "  <thead>\n",
       "    <tr style=\"text-align: right;\">\n",
       "      <th></th>\n",
       "      <th>user_id</th>\n",
       "      <th>source</th>\n",
       "      <th>device</th>\n",
       "      <th>operative_system</th>\n",
       "      <th>test</th>\n",
       "      <th>price</th>\n",
       "      <th>converted</th>\n",
       "      <th>date</th>\n",
       "      <th>time</th>\n",
       "      <th>day_of_week</th>\n",
       "      <th>hour</th>\n",
       "      <th>working_hour</th>\n",
       "      <th>test_1</th>\n",
       "    </tr>\n",
       "  </thead>\n",
       "  <tbody>\n",
       "    <tr>\n",
       "      <th>0</th>\n",
       "      <td>604839</td>\n",
       "      <td>ads_facebook</td>\n",
       "      <td>mobile</td>\n",
       "      <td>iOS</td>\n",
       "      <td>0</td>\n",
       "      <td>39</td>\n",
       "      <td>0</td>\n",
       "      <td>2015-05-08</td>\n",
       "      <td>03:38:34.000000</td>\n",
       "      <td>4.0</td>\n",
       "      <td>3.0</td>\n",
       "      <td>0</td>\n",
       "      <td>0</td>\n",
       "    </tr>\n",
       "    <tr>\n",
       "      <th>1</th>\n",
       "      <td>624057</td>\n",
       "      <td>seo-google</td>\n",
       "      <td>mobile</td>\n",
       "      <td>android</td>\n",
       "      <td>0</td>\n",
       "      <td>39</td>\n",
       "      <td>0</td>\n",
       "      <td>2015-05-10</td>\n",
       "      <td>21:08:46.000000</td>\n",
       "      <td>6.0</td>\n",
       "      <td>21.0</td>\n",
       "      <td>0</td>\n",
       "      <td>0</td>\n",
       "    </tr>\n",
       "    <tr>\n",
       "      <th>2</th>\n",
       "      <td>317970</td>\n",
       "      <td>ads-bing</td>\n",
       "      <td>mobile</td>\n",
       "      <td>android</td>\n",
       "      <td>0</td>\n",
       "      <td>39</td>\n",
       "      <td>0</td>\n",
       "      <td>2015-04-04</td>\n",
       "      <td>15:01:23.000000</td>\n",
       "      <td>5.0</td>\n",
       "      <td>15.0</td>\n",
       "      <td>1</td>\n",
       "      <td>0</td>\n",
       "    </tr>\n",
       "    <tr>\n",
       "      <th>3</th>\n",
       "      <td>685636</td>\n",
       "      <td>direct_traffic</td>\n",
       "      <td>mobile</td>\n",
       "      <td>iOS</td>\n",
       "      <td>1</td>\n",
       "      <td>59</td>\n",
       "      <td>0</td>\n",
       "      <td>2015-05-07</td>\n",
       "      <td>07:26:01.000000</td>\n",
       "      <td>3.0</td>\n",
       "      <td>7.0</td>\n",
       "      <td>0</td>\n",
       "      <td>1</td>\n",
       "    </tr>\n",
       "    <tr>\n",
       "      <th>4</th>\n",
       "      <td>820854</td>\n",
       "      <td>ads_facebook</td>\n",
       "      <td>web</td>\n",
       "      <td>mac</td>\n",
       "      <td>0</td>\n",
       "      <td>39</td>\n",
       "      <td>0</td>\n",
       "      <td>2015-05-24</td>\n",
       "      <td>11:04:40.000000</td>\n",
       "      <td>6.0</td>\n",
       "      <td>11.0</td>\n",
       "      <td>1</td>\n",
       "      <td>0</td>\n",
       "    </tr>\n",
       "  </tbody>\n",
       "</table>\n",
       "</div>"
      ],
      "text/plain": [
       "   user_id          source  device operative_system  test  price  converted  \\\n",
       "0   604839    ads_facebook  mobile              iOS     0     39          0   \n",
       "1   624057      seo-google  mobile          android     0     39          0   \n",
       "2   317970        ads-bing  mobile          android     0     39          0   \n",
       "3   685636  direct_traffic  mobile              iOS     1     59          0   \n",
       "4   820854    ads_facebook     web              mac     0     39          0   \n",
       "\n",
       "         date             time  day_of_week  hour  working_hour  test_1  \n",
       "0  2015-05-08  03:38:34.000000          4.0   3.0             0       0  \n",
       "1  2015-05-10  21:08:46.000000          6.0  21.0             0       0  \n",
       "2  2015-04-04  15:01:23.000000          5.0  15.0             1       0  \n",
       "3  2015-05-07  07:26:01.000000          3.0   7.0             0       1  \n",
       "4  2015-05-24  11:04:40.000000          6.0  11.0             1       0  "
      ]
     },
     "execution_count": 32,
     "metadata": {},
     "output_type": "execute_result"
    }
   ],
   "source": [
    "pysqldf = lambda q: sqldf(q, globals())\n",
    "q1='''SELECT *,CASE WHEN price=39 THEN 0\n",
    "      WHEN price=59 THEN 1 END as test_1\n",
    "      FROM test_df'''\n",
    "df_1 = pysqldf(q1)\n",
    "df_1.head()"
   ]
  },
  {
   "cell_type": "markdown",
   "metadata": {},
   "source": [
    "__Merge User and Test datasets__"
   ]
  },
  {
   "cell_type": "markdown",
   "metadata": {},
   "source": [
    "User table has 275616 user_id while there is 316800 user_id in test data, so here to not lose information from test data I used the left merge to keep all the available test data."
   ]
  },
  {
   "cell_type": "code",
   "execution_count": 33,
   "metadata": {},
   "outputs": [
    {
     "data": {
      "text/html": [
       "<div>\n",
       "<style scoped>\n",
       "    .dataframe tbody tr th:only-of-type {\n",
       "        vertical-align: middle;\n",
       "    }\n",
       "\n",
       "    .dataframe tbody tr th {\n",
       "        vertical-align: top;\n",
       "    }\n",
       "\n",
       "    .dataframe thead th {\n",
       "        text-align: right;\n",
       "    }\n",
       "</style>\n",
       "<table border=\"1\" class=\"dataframe\">\n",
       "  <thead>\n",
       "    <tr style=\"text-align: right;\">\n",
       "      <th></th>\n",
       "      <th>user_id</th>\n",
       "      <th>source</th>\n",
       "      <th>device</th>\n",
       "      <th>operative_system</th>\n",
       "      <th>test</th>\n",
       "      <th>price</th>\n",
       "      <th>converted</th>\n",
       "      <th>date</th>\n",
       "      <th>time</th>\n",
       "      <th>day_of_week</th>\n",
       "      <th>hour</th>\n",
       "      <th>working_hour</th>\n",
       "      <th>test_1</th>\n",
       "      <th>user_id</th>\n",
       "      <th>city</th>\n",
       "      <th>country</th>\n",
       "      <th>lat</th>\n",
       "      <th>long</th>\n",
       "    </tr>\n",
       "  </thead>\n",
       "  <tbody>\n",
       "    <tr>\n",
       "      <th>0</th>\n",
       "      <td>604839</td>\n",
       "      <td>ads_facebook</td>\n",
       "      <td>mobile</td>\n",
       "      <td>iOS</td>\n",
       "      <td>0</td>\n",
       "      <td>39</td>\n",
       "      <td>0</td>\n",
       "      <td>2015-05-08</td>\n",
       "      <td>03:38:34.000000</td>\n",
       "      <td>4.0</td>\n",
       "      <td>3.0</td>\n",
       "      <td>0</td>\n",
       "      <td>0</td>\n",
       "      <td>604839.0</td>\n",
       "      <td>Buffalo</td>\n",
       "      <td>USA</td>\n",
       "      <td>42.89</td>\n",
       "      <td>-78.86</td>\n",
       "    </tr>\n",
       "    <tr>\n",
       "      <th>1</th>\n",
       "      <td>624057</td>\n",
       "      <td>seo-google</td>\n",
       "      <td>mobile</td>\n",
       "      <td>android</td>\n",
       "      <td>0</td>\n",
       "      <td>39</td>\n",
       "      <td>0</td>\n",
       "      <td>2015-05-10</td>\n",
       "      <td>21:08:46.000000</td>\n",
       "      <td>6.0</td>\n",
       "      <td>21.0</td>\n",
       "      <td>0</td>\n",
       "      <td>0</td>\n",
       "      <td>624057.0</td>\n",
       "      <td>Lakeville</td>\n",
       "      <td>USA</td>\n",
       "      <td>44.68</td>\n",
       "      <td>-93.24</td>\n",
       "    </tr>\n",
       "    <tr>\n",
       "      <th>2</th>\n",
       "      <td>317970</td>\n",
       "      <td>ads-bing</td>\n",
       "      <td>mobile</td>\n",
       "      <td>android</td>\n",
       "      <td>0</td>\n",
       "      <td>39</td>\n",
       "      <td>0</td>\n",
       "      <td>2015-04-04</td>\n",
       "      <td>15:01:23.000000</td>\n",
       "      <td>5.0</td>\n",
       "      <td>15.0</td>\n",
       "      <td>1</td>\n",
       "      <td>0</td>\n",
       "      <td>317970.0</td>\n",
       "      <td>Parma</td>\n",
       "      <td>USA</td>\n",
       "      <td>41.38</td>\n",
       "      <td>-81.73</td>\n",
       "    </tr>\n",
       "    <tr>\n",
       "      <th>3</th>\n",
       "      <td>685636</td>\n",
       "      <td>direct_traffic</td>\n",
       "      <td>mobile</td>\n",
       "      <td>iOS</td>\n",
       "      <td>1</td>\n",
       "      <td>59</td>\n",
       "      <td>0</td>\n",
       "      <td>2015-05-07</td>\n",
       "      <td>07:26:01.000000</td>\n",
       "      <td>3.0</td>\n",
       "      <td>7.0</td>\n",
       "      <td>0</td>\n",
       "      <td>1</td>\n",
       "      <td>685636.0</td>\n",
       "      <td>Fayetteville</td>\n",
       "      <td>USA</td>\n",
       "      <td>35.07</td>\n",
       "      <td>-78.90</td>\n",
       "    </tr>\n",
       "    <tr>\n",
       "      <th>4</th>\n",
       "      <td>820854</td>\n",
       "      <td>ads_facebook</td>\n",
       "      <td>web</td>\n",
       "      <td>mac</td>\n",
       "      <td>0</td>\n",
       "      <td>39</td>\n",
       "      <td>0</td>\n",
       "      <td>2015-05-24</td>\n",
       "      <td>11:04:40.000000</td>\n",
       "      <td>6.0</td>\n",
       "      <td>11.0</td>\n",
       "      <td>1</td>\n",
       "      <td>0</td>\n",
       "      <td>820854.0</td>\n",
       "      <td>Fishers</td>\n",
       "      <td>USA</td>\n",
       "      <td>39.95</td>\n",
       "      <td>-86.02</td>\n",
       "    </tr>\n",
       "  </tbody>\n",
       "</table>\n",
       "</div>"
      ],
      "text/plain": [
       "   user_id          source  device operative_system  test  price  converted  \\\n",
       "0   604839    ads_facebook  mobile              iOS     0     39          0   \n",
       "1   624057      seo-google  mobile          android     0     39          0   \n",
       "2   317970        ads-bing  mobile          android     0     39          0   \n",
       "3   685636  direct_traffic  mobile              iOS     1     59          0   \n",
       "4   820854    ads_facebook     web              mac     0     39          0   \n",
       "\n",
       "         date             time  day_of_week  hour  working_hour  test_1  \\\n",
       "0  2015-05-08  03:38:34.000000          4.0   3.0             0       0   \n",
       "1  2015-05-10  21:08:46.000000          6.0  21.0             0       0   \n",
       "2  2015-04-04  15:01:23.000000          5.0  15.0             1       0   \n",
       "3  2015-05-07  07:26:01.000000          3.0   7.0             0       1   \n",
       "4  2015-05-24  11:04:40.000000          6.0  11.0             1       0   \n",
       "\n",
       "    user_id          city country    lat   long  \n",
       "0  604839.0       Buffalo     USA  42.89 -78.86  \n",
       "1  624057.0     Lakeville     USA  44.68 -93.24  \n",
       "2  317970.0         Parma     USA  41.38 -81.73  \n",
       "3  685636.0  Fayetteville     USA  35.07 -78.90  \n",
       "4  820854.0       Fishers     USA  39.95 -86.02  "
      ]
     },
     "execution_count": 33,
     "metadata": {},
     "output_type": "execute_result"
    }
   ],
   "source": [
    "q2='''SELECT *\n",
    "FROM df_1 A\n",
    "LEFT JOIN user U\n",
    "ON A.user_id=U.user_id\n",
    "'''\n",
    "df_all= pysqldf(q2)\n",
    "df_all.head()"
   ]
  },
  {
   "cell_type": "markdown",
   "metadata": {},
   "source": [
    "__Investigate Results from Performed AB Testing__ \n",
    "\n",
    "test/control random split is ~66%/33% to avoid hurting the current customers from higher price here we are spliting 66% and 33% but the ideal split is 50%/50%"
   ]
  },
  {
   "cell_type": "code",
   "execution_count": 35,
   "metadata": {},
   "outputs": [
    {
     "data": {
      "text/html": [
       "<div>\n",
       "<style scoped>\n",
       "    .dataframe tbody tr th:only-of-type {\n",
       "        vertical-align: middle;\n",
       "    }\n",
       "\n",
       "    .dataframe tbody tr th {\n",
       "        vertical-align: top;\n",
       "    }\n",
       "\n",
       "    .dataframe thead th {\n",
       "        text-align: right;\n",
       "    }\n",
       "</style>\n",
       "<table border=\"1\" class=\"dataframe\">\n",
       "  <thead>\n",
       "    <tr style=\"text-align: right;\">\n",
       "      <th></th>\n",
       "      <th>conversion_rate</th>\n",
       "    </tr>\n",
       "  </thead>\n",
       "  <tbody>\n",
       "    <tr>\n",
       "      <th>0</th>\n",
       "      <td>0.019889</td>\n",
       "    </tr>\n",
       "    <tr>\n",
       "      <th>1</th>\n",
       "      <td>0.015570</td>\n",
       "    </tr>\n",
       "  </tbody>\n",
       "</table>\n",
       "</div>"
      ],
      "text/plain": [
       "   conversion_rate\n",
       "0         0.019889\n",
       "1         0.015570"
      ]
     },
     "execution_count": 35,
     "metadata": {},
     "output_type": "execute_result"
    }
   ],
   "source": [
    "pysqldf = lambda q: sqldf(q, globals())\n",
    "q='''SELECT CAST(SUM(converted)as float)/ CAST(count(*)as float) as conversion_rate\n",
    "    FROM df_1\n",
    "    GROUP BY test_1'''\n",
    "\n",
    "df_cr = pysqldf(q)\n",
    "df_cr.head()\n"
   ]
  },
  {
   "cell_type": "markdown",
   "metadata": {},
   "source": [
    "Conversion Rate of the customers for old price(39 dollars) is 0.019889 and conversion rate of the customers for new price (59 dollars) is 0.015570 "
   ]
  },
  {
   "cell_type": "code",
   "execution_count": 44,
   "metadata": {},
   "outputs": [],
   "source": [
    "def compare_conversion(df):\n",
    "    conversion = pd.DataFrame(np.round(df.groupby(['test_1'])['converted'].sum()/\n",
    "                          df.groupby(['test_1'])['converted'].count()*100,3))\n",
    "    sample_size = df.groupby(['test_1'])['user_id'].count()\n",
    "    conversion = conversion.reset_index().rename(columns={\"converted\":\"conversion_rate\"})\n",
    "    conversion['sample_size'] = pd.Series(sample_size)\n",
    "    conversion['Revenue']=np.where(conversion['test_1']==0, conversion['sample_size']*39,conversion['sample_size']*59)\n",
    "    return conversion"
   ]
  },
  {
   "cell_type": "code",
   "execution_count": 45,
   "metadata": {},
   "outputs": [
    {
     "data": {
      "text/html": [
       "<div>\n",
       "<style scoped>\n",
       "    .dataframe tbody tr th:only-of-type {\n",
       "        vertical-align: middle;\n",
       "    }\n",
       "\n",
       "    .dataframe tbody tr th {\n",
       "        vertical-align: top;\n",
       "    }\n",
       "\n",
       "    .dataframe thead th {\n",
       "        text-align: right;\n",
       "    }\n",
       "</style>\n",
       "<table border=\"1\" class=\"dataframe\">\n",
       "  <thead>\n",
       "    <tr style=\"text-align: right;\">\n",
       "      <th></th>\n",
       "      <th>test_1</th>\n",
       "      <th>conversion_rate</th>\n",
       "      <th>sample_size</th>\n",
       "      <th>Revenue</th>\n",
       "    </tr>\n",
       "  </thead>\n",
       "  <tbody>\n",
       "    <tr>\n",
       "      <th>0</th>\n",
       "      <td>0</td>\n",
       "      <td>1.989</td>\n",
       "      <td>202672</td>\n",
       "      <td>7904208</td>\n",
       "    </tr>\n",
       "    <tr>\n",
       "      <th>1</th>\n",
       "      <td>1</td>\n",
       "      <td>1.557</td>\n",
       "      <td>114128</td>\n",
       "      <td>6733552</td>\n",
       "    </tr>\n",
       "  </tbody>\n",
       "</table>\n",
       "</div>"
      ],
      "text/plain": [
       "   test_1  conversion_rate  sample_size  Revenue\n",
       "0       0            1.989       202672  7904208\n",
       "1       1            1.557       114128  6733552"
      ]
     },
     "execution_count": 45,
     "metadata": {},
     "output_type": "execute_result"
    }
   ],
   "source": [
    "conversion = compare_conversion(df_1)\n",
    "conversion"
   ]
  },
  {
   "cell_type": "markdown",
   "metadata": {},
   "source": [
    "According to the test (control with $39 priced software (old price)) converts at 1.98% while users in the treatment with higher price of (\\\\$59) just at 1.55%. That’s a 28% drop. Besides, looking at the revenue suggests if the test is correct and true the company will lose sale. \n",
    "\n",
    "The probable reasons for this unfortunate results are:\n",
    "\n",
    "1. The test was not running for long enough to gather enough samples.\n",
    "2. There is a bias in the experiment so that treatment/control samples are not really random.\n",
    "3. The segmentation is needed to investigate samples and experiment in details to check if there is any sudden change in the conversion rate."
   ]
  },
  {
   "cell_type": "markdown",
   "metadata": {},
   "source": [
    "__Segment Datasets into Control/Test groups__ "
   ]
  },
  {
   "cell_type": "code",
   "execution_count": 72,
   "metadata": {},
   "outputs": [
    {
     "name": "stdout",
     "output_type": "stream",
     "text": [
      "control group size: (202727, 18)\n",
      "treatment group size: (114073, 18)\n",
      "The t-statistic of the mean difference is 8.78\n",
      "The p-value of this t-stat is 1.5878799805343215e-18\n"
     ]
    }
   ],
   "source": [
    "# #Dataframe division into two segments\n",
    "control= df_all[(df_all['test'] == 0)]\n",
    "print('control group size:', control.shape) #(202727, 14)\n",
    "\n",
    "treatment = df_all[(df_all['test'] ==1)]\n",
    "print('treatment group size:',treatment.shape) #(114073, 14)\n",
    "#print(treatment.head())\n",
    "\n",
    "print(\"The t-statistic of the mean difference is\", np.round(ttest_ind(control['converted'], treatment['converted'])[0],2))\n",
    "print(\"The p-value of this t-stat is\", ttest_ind(control['converted'], treatment['converted'])[1])"
   ]
  },
  {
   "cell_type": "markdown",
   "metadata": {},
   "source": [
    "__Verify Randomness of the Experiment__\n",
    "\n",
    "According to the experiment, 66% of users saw the old price (39 dollars), and the rest 33% users saw the new price (59 dollars). Verify if the number of users in control and treatment groups are indeed 66% and 33%, and if the price presented to each group is indeed (39 dollars) and (59 dollars)."
   ]
  },
  {
   "cell_type": "code",
   "execution_count": 53,
   "metadata": {},
   "outputs": [],
   "source": [
    "def record_unique(df):\n",
    "    feature_value = []\n",
    "    for col in df.columns:\n",
    "        print(str(df[col].nunique()) + ' unique values in ' + col)\n",
    "        if df[col].nunique()<=20:\n",
    "            feature_value.append(pd.DataFrame(df[col].value_counts()).reset_index().rename(columns={col:col+\"_count\",\n",
    "                                                                                                    \"index\":col}))\n",
    "    features = pd.concat(feature_value, axis=1)\n",
    "    return features   "
   ]
  },
  {
   "cell_type": "code",
   "execution_count": 64,
   "metadata": {},
   "outputs": [
    {
     "name": "stdout",
     "output_type": "stream",
     "text": [
      "316800 unique values in user_id\n",
      "12 unique values in source\n",
      "2 unique values in device\n",
      "6 unique values in operative_system\n",
      "2 unique values in test\n",
      "2 unique values in price\n",
      "2 unique values in converted\n",
      "91 unique values in date\n",
      "58722 unique values in time\n",
      "7 unique values in day_of_week\n",
      "24 unique values in hour\n",
      "2 unique values in working_hour\n",
      "275616 unique values in user_id\n",
      "923 unique values in city\n",
      "1 unique values in country\n",
      "713 unique values in lat\n",
      "830 unique values in long\n"
     ]
    }
   ],
   "source": [
    "test_feature = record_unique(test_df)\n",
    "user_feature = record_unique(user)"
   ]
  },
  {
   "cell_type": "markdown",
   "metadata": {},
   "source": [
    "- The results  275,616 unique users in user database, but 316,800 unique users in the test database.\n",
    "- 202,727 users (fewer than 66% of the total unique users (316,800)) are in control group, and 114,073 users (more than 33% of (316,800)) are in the treatment group. "
   ]
  },
  {
   "cell_type": "code",
   "execution_count": 65,
   "metadata": {},
   "outputs": [
    {
     "data": {
      "text/html": [
       "<div>\n",
       "<style scoped>\n",
       "    .dataframe tbody tr th:only-of-type {\n",
       "        vertical-align: middle;\n",
       "    }\n",
       "\n",
       "    .dataframe tbody tr th {\n",
       "        vertical-align: top;\n",
       "    }\n",
       "\n",
       "    .dataframe thead th {\n",
       "        text-align: right;\n",
       "    }\n",
       "</style>\n",
       "<table border=\"1\" class=\"dataframe\">\n",
       "  <thead>\n",
       "    <tr style=\"text-align: right;\">\n",
       "      <th></th>\n",
       "      <th>country</th>\n",
       "      <th>country_count</th>\n",
       "    </tr>\n",
       "  </thead>\n",
       "  <tbody>\n",
       "    <tr>\n",
       "      <th>0</th>\n",
       "      <td>USA</td>\n",
       "      <td>275616</td>\n",
       "    </tr>\n",
       "  </tbody>\n",
       "</table>\n",
       "</div>"
      ],
      "text/plain": [
       "  country  country_count\n",
       "0     USA         275616"
      ]
     },
     "execution_count": 65,
     "metadata": {},
     "output_type": "execute_result"
    }
   ],
   "source": [
    "user_feature.head(20)"
   ]
  },
  {
   "cell_type": "markdown",
   "metadata": {},
   "source": [
    "- Everyone in user database is from USA. Does this suggest that everyone else in the treatment results are from outside of US?"
   ]
  },
  {
   "cell_type": "markdown",
   "metadata": {},
   "source": [
    "__Check Randomly Assignment of Treatment and Control Group__\n",
    "\n",
    "If users are indeed assigned randomly, they should have similar distribution in the following aspects: \n",
    "source, device, operative_system,day_of_week,working_hour,hour"
   ]
  },
  {
   "cell_type": "code",
   "execution_count": 10,
   "metadata": {},
   "outputs": [
    {
     "data": {
      "image/png": "[encoded data removed]",
      "text/plain": [
       "<Figure size 936x360 with 1 Axes>"
      ]
     },
     "metadata": {
      "needs_background": "light"
     },
     "output_type": "display_data"
    }
   ],
   "source": [
    "df_all['device'].describe() # Devices: Mobile and Web \n",
    "control_d=control['device'].value_counts().to_dict()\n",
    "treatment_d=treatment['device'].value_counts().to_dict()\n",
    "\n",
    "fig = plt.subplots(1,1, figsize = (13, 5))\n",
    "plt.bar(list(control_d.keys()), control_d.values(), color='g')\n",
    "plt.bar(list(treatment_d.keys()), treatment_d.values(), color='r')\n",
    "plt.xticks(rotation=90);\n",
    "plt.show()"
   ]
  },
  {
   "cell_type": "markdown",
   "metadata": {},
   "source": [
    "Mobile is the most commonly used device"
   ]
  },
  {
   "cell_type": "code",
   "execution_count": 66,
   "metadata": {},
   "outputs": [],
   "source": [
    "def feature_distribution(df):\n",
    "    feature = ['source', 'device', 'operative_system','day_of_week','working_hour','hour']\n",
    "    feature_dist = []\n",
    "    for col in feature:\n",
    "        col_dist = pd.DataFrame(np.round(df.groupby(['test',col])['user_id'].count()/\n",
    "                                         df.groupby(['test'])['user_id'].count()*100, 2)).reset_index().rename(columns={\"user_id\":\"percentage\"})\n",
    "        feature_dist.append(col_dist)\n",
    "        col_dist.pivot('test',col,'percentage').plot(kind='bar', figsize=(8,8),fontsize=15,\n",
    "                                                     title='Distribution of '+ col.upper() +' across Test and Control Group')\n",
    "    return feature_dist"
   ]
  },
  {
   "cell_type": "code",
   "execution_count": 69,
   "metadata": {},
   "outputs": [
    {
     "data": {
      "image/png": "[encoded data removed]",
      "text/plain": [
       "<Figure size 576x576 with 1 Axes>"
      ]
     },
     "metadata": {
      "needs_background": "light"
     },
     "output_type": "display_data"
    },
    {
     "data": {
      "image/png": "[encoded data removed]",
      "text/plain": [
       "<Figure size 576x576 with 1 Axes>"
      ]
     },
     "metadata": {
      "needs_background": "light"
     },
     "output_type": "display_data"
    },
    {
     "data": {
      "image/png": "[encoded data removed]",
      "text/plain": [
       "<Figure size 576x576 with 1 Axes>"
      ]
     },
     "metadata": {
      "needs_background": "light"
     },
     "output_type": "display_data"
    },
    {
     "data": {
      "image/png": "[encoded data removed]",
      "text/plain": [
       "<Figure size 576x576 with 1 Axes>"
      ]
     },
     "metadata": {
      "needs_background": "light"
     },
     "output_type": "display_data"
    },
    {
     "data": {
      "image/png": "[encoded data removed]",
      "text/plain": [
       "<Figure size 576x576 with 1 Axes>"
      ]
     },
     "metadata": {
      "needs_background": "light"
     },
     "output_type": "display_data"
    },
    {
     "data": {
      "image/png": "[encoded data removed]",
      "text/plain": [
       "<Figure size 576x576 with 1 Axes>"
      ]
     },
     "metadata": {
      "needs_background": "light"
     },
     "output_type": "display_data"
    }
   ],
   "source": [
    "feature_dist = feature_distribution(df_1)"
   ]
  },
  {
   "cell_type": "markdown",
   "metadata": {},
   "source": [
    "Results suggest that users with different features are randomly assigned into treatment and control groups. "
   ]
  },
  {
   "cell_type": "code",
   "execution_count": 13,
   "metadata": {},
   "outputs": [
    {
     "data": {
      "image/png": "[encoded data removed]",
      "text/plain": [
       "<Figure size 936x360 with 1 Axes>"
      ]
     },
     "metadata": {
      "needs_background": "light"
     },
     "output_type": "display_data"
    }
   ],
   "source": [
    "df_all['operative_system'].describe() \n",
    "control_os=control['operative_system'].value_counts().to_dict()\n",
    "treatment_os=treatment['operative_system'].value_counts().to_dict()\n",
    "\n",
    "fig = plt.subplots(1,1, figsize = (13, 5))\n",
    "plt.bar(list(control_os.keys()), control_os.values(), color='g')\n",
    "plt.bar(list(treatment_os.keys()), treatment_os.values(), color='r')\n",
    "plt.xticks(rotation=90);\n",
    "plt.show()"
   ]
  },
  {
   "cell_type": "markdown",
   "metadata": {},
   "source": [
    "Windows is the most commonly used OS"
   ]
  },
  {
   "cell_type": "code",
   "execution_count": 14,
   "metadata": {},
   "outputs": [
    {
     "data": {
      "image/png": "[encoded data removed]",
      "text/plain": [
       "<Figure size 936x360 with 1 Axes>"
      ]
     },
     "metadata": {
      "needs_background": "light"
     },
     "output_type": "display_data"
    }
   ],
   "source": [
    "control_s=control['source'].value_counts().to_dict()\n",
    "treatment_s=treatment['source'].value_counts().to_dict()\n",
    "\n",
    "fig = plt.subplots(1,1, figsize = (13, 5))\n",
    "plt.bar(list(control_s.keys()), control_s.values(), color='g')\n",
    "plt.bar(list(treatment_s.keys()), treatment_s.values(), color='r')\n",
    "plt.xticks(rotation=90);\n",
    "plt.show()"
   ]
  },
  {
   "cell_type": "markdown",
   "metadata": {},
   "source": [
    "Direct traffic is contributing highest source"
   ]
  },
  {
   "cell_type": "code",
   "execution_count": 15,
   "metadata": {},
   "outputs": [
    {
     "data": {
      "image/png": "[encoded data removed]",
      "text/plain": [
       "<Figure size 936x360 with 1 Axes>"
      ]
     },
     "metadata": {
      "needs_background": "light"
     },
     "output_type": "display_data"
    }
   ],
   "source": [
    "control_c=control['country'].value_counts().to_dict()\n",
    "treatment_c=treatment['country'].value_counts().to_dict()\n",
    "\n",
    "fig = plt.subplots(1,1, figsize = (13, 5))\n",
    "plt.bar(list(control_c.keys()), control_c.values(), color='g')\n",
    "plt.bar(list(treatment_c.keys()), treatment_c.values(), color='r')\n",
    "plt.xticks(rotation=90);\n",
    "plt.show()"
   ]
  },
  {
   "cell_type": "code",
   "execution_count": 21,
   "metadata": {},
   "outputs": [],
   "source": [
    "control_city=control['city'].value_counts().to_dict() #'New York': 16572, 'Chicago': 4594, 'Houston': 4265\n",
    "#print(control_city)\n",
    "treatment_city=treatment['city'].value_counts().to_dict()#'New York': 9176, 'Chicago': 2559, 'Houston': 2441\n",
    "\n",
    "#print(treatment_city)"
   ]
  },
  {
   "cell_type": "markdown",
   "metadata": {},
   "source": [
    "New York has maximum number of users (control: 16,572) and (treatment: 9,176).\n",
    "So let's focussing on conversion rate of NY users"
   ]
  },
  {
   "cell_type": "code",
   "execution_count": null,
   "metadata": {},
   "outputs": [],
   "source": []
  }
 ],
 "metadata": {
  "kernelspec": {
   "display_name": "Python 3",
   "language": "python",
   "name": "python3"
  },
  "language_info": {
   "codemirror_mode": {
    "name": "ipython",
    "version": 3
   },
   "file_extension": ".py",
   "mimetype": "text/x-python",
   "name": "python",
   "nbconvert_exporter": "python",
   "pygments_lexer": "ipython3",
   "version": "3.7.3"
  }
 },
 "nbformat": 4,
 "nbformat_minor": 2
}
